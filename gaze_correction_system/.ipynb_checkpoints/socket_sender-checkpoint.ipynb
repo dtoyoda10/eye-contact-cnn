{
 "cells": [
  {
   "cell_type": "code",
   "execution_count": 4,
   "metadata": {},
   "outputs": [],
   "source": [
    "import cv2\n",
    "import numpy as np\n",
    "import socket\n",
    "import sys\n",
    "import pickle\n",
    "import struct ### new code\n",
    "cap=cv2.VideoCapture(0)\n",
    "clientsocket=socket.socket(socket.AF_INET,socket.SOCK_STREAM)\n",
    "clientsocket.connect(('localhost',8089))\n",
    "i=0\n",
    "while True:\n",
    "    ret,frame=cap.read()\n",
    "    data = pickle.dumps(frame) ### new code\n",
    "    clientsocket.sendall(struct.pack(\"L\", len(data))+data) ### new code\n",
    "    if i ==10000:\n",
    "        break\n",
    "    i = i+1\n",
    "    cv2.imshow('send',frame)\n",
    "    k = cv2.waitKey(1)\n",
    "    if (k == ord('k')):\n",
    "        data = pickle.dumps('stop')\n",
    "        clientsocket.sendall(struct.pack(\"L\", len(data))+data) ### new code\n",
    "        cv2.destroyWindow(\"send\")\n",
    "        clientsocket.shutdown(socket.SHUT_RDWR)\n",
    "        clientsocket.close()\n",
    "        cap.release()\n",
    "        break"
   ]
  },
  {
   "cell_type": "code",
   "execution_count": null,
   "metadata": {},
   "outputs": [],
   "source": [
    "\n"
   ]
  }
 ],
 "metadata": {
  "kernelspec": {
   "display_name": "Python 3",
   "language": "python",
   "name": "python3"
  },
  "language_info": {
   "codemirror_mode": {
    "name": "ipython",
    "version": 3
   },
   "file_extension": ".py",
   "mimetype": "text/x-python",
   "name": "python",
   "nbconvert_exporter": "python",
   "pygments_lexer": "ipython3",
   "version": "3.5.3"
  }
 },
 "nbformat": 4,
 "nbformat_minor": 2
}
