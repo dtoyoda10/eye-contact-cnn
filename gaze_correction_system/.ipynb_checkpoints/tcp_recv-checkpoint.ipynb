{
 "cells": [
  {
   "cell_type": "code",
   "execution_count": null,
   "metadata": {
    "scrolled": false
   },
   "outputs": [
    {
     "name": "stdout",
     "output_type": "stream",
     "text": [
      "Connection address: ('127.0.0.1', 59543)\n",
      "received data: (10, 20)\n",
      "received data: (10, 20, 10, 20)\n"
     ]
    }
   ],
   "source": [
    "import socket\n",
    "import pickle\n",
    "\n",
    "TCP_IP = '127.0.0.1'\n",
    "TCP_PORT = 9998\n",
    "BUFFER_SIZE = 1024  # Normally 1024, but we want fast response \n",
    "s = socket.socket(socket.AF_INET, socket.SOCK_STREAM)\n",
    "s.bind((TCP_IP, TCP_PORT))\n",
    "s.listen(1)\n",
    "\n",
    "conn, addr = s.accept()\n",
    "print ('Connection address:', addr)\n",
    "while 1:\n",
    "    data = conn.recv(BUFFER_SIZE)\n",
    "    if not data: break\n",
    "    print(\"received data:\", pickle.loads (data)[0], pickle.loads (data)[1])\n",
    "    \n",
    "conn.close()"
   ]
  }
 ],
 "metadata": {
  "kernelspec": {
   "display_name": "Python 3",
   "language": "python",
   "name": "python3"
  },
  "language_info": {
   "codemirror_mode": {
    "name": "ipython",
    "version": 3
   },
   "file_extension": ".py",
   "mimetype": "text/x-python",
   "name": "python",
   "nbconvert_exporter": "python",
   "pygments_lexer": "ipython3",
   "version": "3.5.3"
  }
 },
 "nbformat": 4,
 "nbformat_minor": 2
}
