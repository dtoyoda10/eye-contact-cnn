{
 "cells": [
  {
   "cell_type": "code",
   "execution_count": 4,
   "metadata": {},
   "outputs": [
    {
     "name": "stdout",
     "output_type": "stream",
     "text": [
      "Socket created\n",
      "Socket bind complete\n",
      "Socket now listening\n"
     ]
    },
    {
     "name": "stderr",
     "output_type": "stream",
     "text": [
      "c:\\users\\mmnet\\appdata\\local\\programs\\python\\python35\\lib\\site-packages\\ipykernel_launcher.py:39: FutureWarning: elementwise comparison failed; returning scalar instead, but in the future will perform elementwise comparison\n"
     ]
    },
    {
     "name": "stdout",
     "output_type": "stream",
     "text": [
      "stop\n"
     ]
    }
   ],
   "source": [
    "import sys\n",
    "import cv2\n",
    "import pickle\n",
    "import numpy as np\n",
    "import struct\n",
    "import socket\n",
    "\n",
    "HOST=''\n",
    "PORT=8089\n",
    "\n",
    "s=socket.socket(socket.AF_INET,socket.SOCK_STREAM)\n",
    "print ('Socket created')\n",
    "\n",
    "s.bind((HOST,PORT))\n",
    "print ('Socket bind complete')\n",
    "s.listen(10)\n",
    "print ('Socket now listening')\n",
    "\n",
    "conn,addr=s.accept()\n",
    "\n",
    "### new\n",
    "data = b\"\"\n",
    "payload_size = struct.calcsize(\"L\") \n",
    "while True:\n",
    "    while len(data) < payload_size:\n",
    "        data += conn.recv(4096)\n",
    "    packed_msg_size = data[:payload_size]\n",
    "    data = data[payload_size:]\n",
    "    msg_size = struct.unpack(\"L\", packed_msg_size)[0]\n",
    "    while len(data) < msg_size:\n",
    "        data += conn.recv(4096)\n",
    "    \n",
    "    frame_data = data[:msg_size]\n",
    "    data = data[msg_size:]\n",
    "    frame=pickle.loads(frame_data)\n",
    "    \n",
    "    ###\n",
    "    if frame == 'stop':\n",
    "        print('stop')\n",
    "        cv2.destroyWindow(\"recv\")\n",
    "        break\n",
    "\n",
    "    cv2.imshow('recv',frame)\n",
    "    cv2.waitKey(1)"
   ]
  }
 ],
 "metadata": {
  "kernelspec": {
   "display_name": "Python 3",
   "language": "python",
   "name": "python3"
  },
  "language_info": {
   "codemirror_mode": {
    "name": "ipython",
    "version": 3
   },
   "file_extension": ".py",
   "mimetype": "text/x-python",
   "name": "python",
   "nbconvert_exporter": "python",
   "pygments_lexer": "ipython3",
   "version": "3.5.3"
  }
 },
 "nbformat": 4,
 "nbformat_minor": 2
}
